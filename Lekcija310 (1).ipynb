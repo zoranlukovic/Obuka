{
 "cells": [
  {
   "cell_type": "markdown",
   "metadata": {},
   "source": [
    "# 3.10. Vizuelna prezentacija sveske"
   ]
  },
  {
   "cell_type": "markdown",
   "metadata": {},
   "source": [
    "### Zadatak\n",
    "Pomoću *Markdown* jezika otkucaj tekst kao na narednoj slici. Na željena mesta umetni slike naših velikana. Na označena mesta umetni potrebne linkove."
   ]
  },
  {
   "cell_type": "markdown",
   "metadata": {},
   "source": [
    "# Sveto naučno trojstvo"
   ]
  },
  {
   "cell_type": "markdown",
   "metadata": {},
   "source": [
    "## Nikola Tesla"
   ]
  },
  {
   "cell_type": "markdown",
   "metadata": {},
   "source": [
    "**Nikola Tesla** je najpoznatiji po svom doprinosu u projektovanju modernig sistema napajanja *naizmeničnom strujom*."
   ]
  },
  {
   "cell_type": "markdown",
   "metadata": {},
   "source": [
    "Njegovi najznačajniji pronalasci su:\n",
    "- polifazni sistem\n",
    "- obrtno magnetsko polje\n",
    "- asinhroni motor\n",
    "- sinhroni motor\n",
    "- Teslin transformator"
   ]
  },
  {
   "cell_type": "markdown",
   "metadata": {},
   "source": [
    "Njegovi najznačajniji pronalasci su:\n",
    "1. polifazni sistem\n",
    "1. obrtno magnetsko polje\n",
    "1. asinhroni motor\n",
    "1. sinhroni motor\n",
    "1. Teslin transformator"
   ]
  },
  {
   "cell_type": "markdown",
   "metadata": {},
   "source": [
    "[Muzej Nikola Tesla](https://nikolateslamuseum.org/)"
   ]
  },
  {
   "attachments": {
    "download%20%283%29.jpg": {
     "image/jpeg": "[encoded data removed]"
    }
   },
   "cell_type": "markdown",
   "metadata": {},
   "source": [
    "![download%20%283%29.jpg](attachment:download%20%283%29.jpg)"
   ]
  },
  {
   "cell_type": "markdown",
   "metadata": {},
   "source": [
    "![Slika01](https://i.imgur.com/uV86f0h.png)"
   ]
  },
  {
   "cell_type": "markdown",
   "metadata": {},
   "source": [
    "![Slika02](https://i.imgur.com/CO8lsY0.png)"
   ]
  }
 ],
 "metadata": {
  "kernelspec": {
   "display_name": "Python 3 (ipykernel)",
   "language": "python",
   "name": "python3"
  },
  "language_info": {
   "codemirror_mode": {
    "name": "ipython",
    "version": 3
   },
   "file_extension": ".py",
   "mimetype": "text/x-python",
   "name": "python",
   "nbconvert_exporter": "python",
   "pygments_lexer": "ipython3",
   "version": "3.7.12"
  }
 },
 "nbformat": 4,
 "nbformat_minor": 2
}

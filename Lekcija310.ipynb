{
 "cells": [
  {
   "cell_type": "markdown",
   "metadata": {},
   "source": [
    "# 3.10. Vizuelna prezentacija sveske"
   ]
  },
  {
   "cell_type": "markdown",
   "metadata": {},
   "source": [
    "### Zadatak\n",
    "Pomoću *Markdown* jezika otkucaj tekst kao na narednoj slici. Na željena mesta umetni slike naših velikana. Na označena mesta umetni potrebne linkove."
   ]
  },
  {
   "cell_type": "markdown",
   "metadata": {},
   "source": [
    "# Sveto naučno trojstvo"
   ]
  },
  {
   "cell_type": "markdown",
   "metadata": {},
   "source": [
    "## Nikola Tesla"
   ]
  },
  {
   "cell_type": "markdown",
   "metadata": {},
   "source": [
    "**Nikola Tesla**, čuveni srpski pronalazač i inženjer elektrotehnike i mašinstva, rođen je u Smiljanu 10. jula 1856, a umro je u Njujorku, na Božić, 7. januara 1943. Ovaj naučnik najpoznatiji je po svom doprinosu u projektovanju modernog sistema napajanja *naizmeničnom strujom*. Njegovi najznačajniji pronalasci su:"
   ]
  },
  {
   "cell_type": "markdown",
   "metadata": {},
   "source": [
    "- polifazni sistem,\n",
    "- obrtno magnetsko polje,\n",
    "- asinhroni motor,\n",
    "- sinhroni motor\n",
    "- Teslin transformator."
   ]
  },
  {
   "attachments": {
    "download%20%281%29.jpg": {
     "image/jpeg": "[encoded data removed]"
    }
   },
   "cell_type": "markdown",
   "metadata": {},
   "source": [
    "![download%20%281%29.jpg](attachment:download%20%281%29.jpg)"
   ]
  },
  {
   "cell_type": "markdown",
   "metadata": {},
   "source": [
    "Svoj životni put i pronalaske predstavio je u autobiografiji *Moji izumi*. Web stranicu muzeja Nikole Tesle možeš pogledati na [ovom linku.](https://nikolateslamuseum.org/)"
   ]
  },
  {
   "cell_type": "markdown",
   "metadata": {},
   "source": [
    "![Slika01](https://i.imgur.com/uV86f0h.png)"
   ]
  },
  {
   "cell_type": "markdown",
   "metadata": {},
   "source": [
    "![Slika02](https://i.imgur.com/CO8lsY0.png)"
   ]
  }
 ],
 "metadata": {
  "kernelspec": {
   "display_name": "Python 3 (ipykernel)",
   "language": "python",
   "name": "python3"
  },
  "language_info": {
   "codemirror_mode": {
    "name": "ipython",
    "version": 3
   },
   "file_extension": ".py",
   "mimetype": "text/x-python",
   "name": "python",
   "nbconvert_exporter": "python",
   "pygments_lexer": "ipython3",
   "version": "3.7.12"
  }
 },
 "nbformat": 4,
 "nbformat_minor": 4
}
